{
 "cells": [
  {
   "cell_type": "markdown",
   "metadata": {},
   "source": [
    "<h1>How do I pre-process text data from Yelp reviews so I can analyze it?</h1>"
   ]
  },
  {
   "cell_type": "markdown",
   "metadata": {},
   "source": [
    "<h2>Goals</h2>\n",
    "<p>By the end of this case, you will understand what Natural Language Processing (NLP) is and how it can be useful. You will further gain experience with NLTK, a Python library that implements many common NLP algorithms. You'll have insights into the challenges specific to NLP and tools such as vectorization, stop words, tokenizing and parts of speech tagging to address these challenges.</p>\n",
    "<p>NLP is a rapidly advancing field, and simply keeping up with new milestones seem daunting. However, most of these advances are tweaks on older concepts, so understanding the fundamentals will set you well on your way to staying relevant.</p>\n",
    "<h2>Introduction</h2>\n",
    "<p><strong>Business Context.</strong> You are a business consultant for small and medium-sized businesses with a large number of customers. Examples of such businesses might include a quick-dining restaurant, clothing store, or online distributor of hobby equipment. You would like to help your small businesses understand what factors are driving positive and negative customer experiences. Customers are often unwilling to give direct feedback, but do leave large numbers of online reviews on websites such as Yelp, Amazon, and so on. You would like to develop a service that would allow businesses to quickly obtain useful summaries of their reviews across such websites. Such a service would allow your clients to answer questions like: \"What are the most important factors driving negative reviews?\" or \"Did a recent policy change improve our reviews?\"</p>\n",
    "<p><strong>Business Problem.</strong> Your main task is to <strong>wrangle a dataset of text reviews and engineer relevant features in order to facilitate subsequent analysis and model building</strong>.</p>\n",
    "<p><strong>Analytical Context.</strong> Text data is highly unstructured, and often requires pre-processing before we can gather any business insights from it. We will be leveraging tools from <strong>natural language processing (NLP)</strong> in order to help us process this data and generate new features that can be used for analytics or model building.</p>\n",
    "<p>The case will proceed as follows: we will (1) introduce basic steps of pre-processing like word tokenization and text visualization; (2) introduce key tools in feature extraction such as n-grams, count representations, and stop words; (3) leverage these tools to perform exploratory data analysis; and finally (4) look at pure text wrangling tools like regular expressions.</p>"
   ]
  },
  {
   "cell_type": "markdown",
   "metadata": {},
   "source": [
    "<h2>Context about NLP</h2>\n",
    "<p>Some of the most famous success stories involving NLP come from Google, where it is used to give very good responses to vague or misspelled internet searches, fairly comprehensible <a href=\"https://www.blog.google/products/translate/higher-quality-neural-translations-bunch-more-languages/\">automatic translations</a> of plain text, and famously <a href=\"https://ai.googleblog.com/2009/12/automatic-captioning-in-youtube.html\">automatically generated subtitles</a> for the majority of YouTube videos.</p>\n",
    "<p>NLP has such a diverse range of uses that it can be hard to find a succinct definition for it. In general, computer prefer numerical data and formal languages, such as mathematics and programming languages, while humans prefer to communicate in so-called \"natural languages\": English, Spanish, and so on. Whenever we try to build a bridge between computer and humans, NLP comes into play. So</p>\n",
    "<ul>\n",
    "<li>To help computers understand humans speaking (think of Siri), we use NLP and audio processing</li>\n",
    "<li>To automatically translate between different natural languages (think Google Translate), we use NLP</li>\n",
    "<li>To automatically apply labels or categories to natural texts (think of spam detectors that keep unwanted email out of your inbox), we use NLP</li>\n",
    "<li>To have computers read text aloud to use (think of Kindle turning ebooks into audiobooks), we again use NLP with audio processing</li>\n",
    "</ul>\n",
    "<p>NLP is a huge field! In this case, we'll focus on some fundamental NLP algorithms which are used in all of the above cases.</p>\n",
    "<p>There is often quite a bit of misconception surrounding NLP and its place within machine learning as a whole. Many of the uninitiated think that NLP is just machine learning applied to words. However, this is far from true. NLP has two characteristics which make it intractable for naive applications of machine learning:</p>"
   ]
  },
  {
   "cell_type": "markdown",
   "metadata": {},
   "source": [
    "<h3>Challenge 1: Extraordinarily high dimensionality</h3>\n",
    "<p>Consider the book <em>War and Peace</em>. It has 3 million characters. Can we view this as a long vector of strings taking values in a 3-million-dimensional space, and then apply machine learning methods here? This is a bad idea for two reasons:</p>\n",
    "<ol>\n",
    "<li>Basic approaches have terrible performance in such high-dimensional spaces</li>\n",
    "<li>These approaches \"miss out\" on some important rules about language that we all know; e.g. that \"don't\" and \"do not\" mean the same thing</li>\n",
    "</ol>\n",
    "<p>As a result, a huge amount of NLP involves finding ways to summarize incredibly long vectors in concise ways, so that we can tractably explore, analyze, and model build with them later.</p>"
   ]
  },
  {
   "cell_type": "markdown",
   "metadata": {},
   "source": [
    "<h3>Challenge 2: Text is context specific</h3>\n",
    "<p>For example, the word <em>queen</em> has many uses in English that are both <em>very different</em> and <em>common</em>:</p>\n",
    "<ol>\n",
    "<li>The ruler of a country</li>\n",
    "<li>A size of mattress</li>\n",
    "<li>The most powerful piece in chess</li>\n",
    "<li>The mother insect in certain types of insect colonies</li>\n",
    "</ol>\n",
    "<p>General purpose libraries will need to deal with all of these, but reviews for mattresses will almost always be about the second. This type of mismatch can result in misleading results that can easily be fixed by a team that is familiar with the underlying NLP computations.</p>"
   ]
  },
  {
   "cell_type": "markdown",
   "metadata": {},
   "source": [
    "<h2>Pre-processing and standardization</h2>\n",
    "<p>Standardizing text involves many steps. Some of these include:</p>\n",
    "<ol>\n",
    "<li>Correcting simple errors. For example, different text might use different encodings and you might find that special characters are corrupted and need to be fixed.</li>\n",
    "<li>Creating features (e.g. labeling nouns and verbs in a sentence).</li>\n",
    "<li>Replacing words and sentences altogether (e.g. standardizing spelling by changing \"yuuuuuuck!\" to \"yuck\", or more extreme steps such as replacing words with near synonyms)</li>\n",
    "</ol>\n",
    "<p>In a broad sense, standardization is similar to data wrangling with more conventional data; we are fixing errors, removing outliers, and transforming features. However, the details in NLP tend to be more complicated. We will be using Python's <a href=\"https://www.nltk.org/\">Natural Language Toolkit (<code>nltk</code>) library</a>. This library has functions that do most of the basics in NLP.</p>\n",
    "<p>NLTK is a great language for learning about NLP in Python. It implements nearly all standard algorithms used in NLP in pure Python, and it is very readable. It has great documentation and a companion book, and it otften implements several alternatives to the same algorithm so that they can be compared. </p>\n",
    "<p>Another NLP library in Python is <a href=\"https://spacy.io/\">spaCy</a>. SpaCy is more modern than NLTK, and more focused on industry use than on education. It is opinionated and often implements only a single algorithm instead of all alternatives. It is focused on speed and efficiency over readability, and its source code is less readable as a result.</p>\n",
    "<p>Both are great NLP libraries to become familiar with. In this case, we'll use NLTK, but nearly all features that we cover can be used in spaCy too.</p>\n",
    "<p><strong>NOTE:</strong> <em>Many text wrangling pipelines start a little before we do, with initial \"cleaning\" steps that involve things like: converting all characters to lower case, expanding contractions, etc. Our main reason for skipping this initial step is that you must make some important and very context-sensitive choices in these steps. For example, auto-correcting the spelling of a document can be very helpful in reducing noise (e.g. if there are important and hard-to-spell words in the document, like \"Poughkeepsie\") but can also destroy the most important part of the signal (e.g. auto-correcting brand names of companies like \"Rappi\" to \"rapping\"). Similarly, the steps we outline here may need to be adapted appropriately for other contexts, such as other languages, computer programs, legal documents, etc.</em> </p>\n",
    "<p>We'll look at a dataset of Yelp reviews. Each review consists of a number of different features, namely:</p>\n",
    "<ol>\n",
    "<li><strong>review_id:</strong> a unique id for that review</li>\n",
    "<li><strong>user_id:</strong> an anonymized identifier for the user that left the review (some users leave multiple reviews)</li>\n",
    "<li><strong>business_id:</strong> an anonymized identifier for the business that the review is about (most businesses have multiple reviews) </li>\n",
    "<li><strong>stars:</strong> the start rating (1-5) that the reviewer rated the business</li>\n",
    "<li><strong>date:</strong> the date the review was left</li>\n",
    "<li><strong>text:</strong> the full text of the review</li>\n",
    "<li><strong>useful:</strong> the number of readers who rated the review as useful</li>\n",
    "<li><strong>funny:</strong> the number of readers who rated the review as funny</li>\n",
    "<li><strong>cool:</strong> the number of readers who rated the review as cool</li>\n",
    "</ol>\n",
    "<p>We'll mainly be interested in the 'text' field as this contains natural language text data.</p>"
   ]
  },
  {
   "cell_type": "code",
   "execution_count": 7,
   "metadata": {},
   "outputs": [
    {
     "name": "stderr",
     "output_type": "stream",
     "text": [
      "[nltk_data] Downloading package punkt to C:\\Users\\Mohammed\n",
      "[nltk_data]     Ibraheem\\AppData\\Roaming\\nltk_data...\n",
      "[nltk_data]   Package punkt is already up-to-date!\n",
      "[nltk_data] Downloading package stopwords to C:\\Users\\Mohammed\n",
      "[nltk_data]     Ibraheem\\AppData\\Roaming\\nltk_data...\n",
      "[nltk_data]   Package stopwords is already up-to-date!\n"
     ]
    }
   ],
   "source": [
    "import nltk # imports the natural language toolkit\n",
    "nltk.download('punkt')\n",
    "nltk.download('stopwords')\n",
    "import pandas as pd\n",
    "import numpy  as np\n",
    "import matplotlib.pyplot as plt\n",
    "import string\n",
    "import plotly\n",
    "import re\n",
    "from collections import Counter\n",
    "from nltk.stem import PorterStemmer\n",
    "from nltk.util import ngrams\n",
    "from pylab import rcParams\n",
    "from wordcloud import WordCloud\n",
    "from sklearn.feature_extraction.text import CountVectorizer"
   ]
  },
  {
   "cell_type": "code",
   "execution_count": 8,
   "metadata": {},
   "outputs": [
    {
     "data": {
      "text/html": [
       "<div>\n",
       "<style scoped>\n",
       "    .dataframe tbody tr th:only-of-type {\n",
       "        vertical-align: middle;\n",
       "    }\n",
       "\n",
       "    .dataframe tbody tr th {\n",
       "        vertical-align: top;\n",
       "    }\n",
       "\n",
       "    .dataframe thead th {\n",
       "        text-align: right;\n",
       "    }\n",
       "</style>\n",
       "<table border=\"1\" class=\"dataframe\">\n",
       "  <thead>\n",
       "    <tr style=\"text-align: right;\">\n",
       "      <th></th>\n",
       "      <th>review_id</th>\n",
       "      <th>user_id</th>\n",
       "      <th>business_id</th>\n",
       "      <th>stars</th>\n",
       "      <th>date</th>\n",
       "      <th>text</th>\n",
       "      <th>useful</th>\n",
       "      <th>funny</th>\n",
       "      <th>cool</th>\n",
       "    </tr>\n",
       "  </thead>\n",
       "  <tbody>\n",
       "    <tr>\n",
       "      <th>0</th>\n",
       "      <td>vkVSCC7xljjrAI4UGfnKEQ</td>\n",
       "      <td>bv2nCi5Qv5vroFiqKGopiw</td>\n",
       "      <td>AEx2SYEUJmTxVVB18LlCwA</td>\n",
       "      <td>5</td>\n",
       "      <td>2016-05-28</td>\n",
       "      <td>Super simple place but amazing nonetheless. It...</td>\n",
       "      <td>0</td>\n",
       "      <td>0</td>\n",
       "      <td>0</td>\n",
       "    </tr>\n",
       "    <tr>\n",
       "      <th>1</th>\n",
       "      <td>n6QzIUObkYshz4dz2QRJTw</td>\n",
       "      <td>bv2nCi5Qv5vroFiqKGopiw</td>\n",
       "      <td>VR6GpWIda3SfvPC-lg9H3w</td>\n",
       "      <td>5</td>\n",
       "      <td>2016-05-28</td>\n",
       "      <td>Small unassuming place that changes their menu...</td>\n",
       "      <td>0</td>\n",
       "      <td>0</td>\n",
       "      <td>0</td>\n",
       "    </tr>\n",
       "    <tr>\n",
       "      <th>2</th>\n",
       "      <td>MV3CcKScW05u5LVfF6ok0g</td>\n",
       "      <td>bv2nCi5Qv5vroFiqKGopiw</td>\n",
       "      <td>CKC0-MOWMqoeWf6s-szl8g</td>\n",
       "      <td>5</td>\n",
       "      <td>2016-05-28</td>\n",
       "      <td>Lester's is located in a beautiful neighborhoo...</td>\n",
       "      <td>0</td>\n",
       "      <td>0</td>\n",
       "      <td>0</td>\n",
       "    </tr>\n",
       "    <tr>\n",
       "      <th>3</th>\n",
       "      <td>IXvOzsEMYtiJI0CARmj77Q</td>\n",
       "      <td>bv2nCi5Qv5vroFiqKGopiw</td>\n",
       "      <td>ACFtxLv8pGrrxMm6EgjreA</td>\n",
       "      <td>4</td>\n",
       "      <td>2016-05-28</td>\n",
       "      <td>Love coming here. Yes the place always needs t...</td>\n",
       "      <td>0</td>\n",
       "      <td>0</td>\n",
       "      <td>0</td>\n",
       "    </tr>\n",
       "    <tr>\n",
       "      <th>4</th>\n",
       "      <td>L_9BTb55X0GDtThi6GlZ6w</td>\n",
       "      <td>bv2nCi5Qv5vroFiqKGopiw</td>\n",
       "      <td>s2I_Ni76bjJNK9yG60iD-Q</td>\n",
       "      <td>4</td>\n",
       "      <td>2016-05-28</td>\n",
       "      <td>Had their chocolate almond croissant and it wa...</td>\n",
       "      <td>0</td>\n",
       "      <td>0</td>\n",
       "      <td>0</td>\n",
       "    </tr>\n",
       "  </tbody>\n",
       "</table>\n",
       "</div>"
      ],
      "text/plain": [
       "                review_id                 user_id             business_id  \\\n",
       "0  vkVSCC7xljjrAI4UGfnKEQ  bv2nCi5Qv5vroFiqKGopiw  AEx2SYEUJmTxVVB18LlCwA   \n",
       "1  n6QzIUObkYshz4dz2QRJTw  bv2nCi5Qv5vroFiqKGopiw  VR6GpWIda3SfvPC-lg9H3w   \n",
       "2  MV3CcKScW05u5LVfF6ok0g  bv2nCi5Qv5vroFiqKGopiw  CKC0-MOWMqoeWf6s-szl8g   \n",
       "3  IXvOzsEMYtiJI0CARmj77Q  bv2nCi5Qv5vroFiqKGopiw  ACFtxLv8pGrrxMm6EgjreA   \n",
       "4  L_9BTb55X0GDtThi6GlZ6w  bv2nCi5Qv5vroFiqKGopiw  s2I_Ni76bjJNK9yG60iD-Q   \n",
       "\n",
       "   stars        date                                               text  \\\n",
       "0      5  2016-05-28  Super simple place but amazing nonetheless. It...   \n",
       "1      5  2016-05-28  Small unassuming place that changes their menu...   \n",
       "2      5  2016-05-28  Lester's is located in a beautiful neighborhoo...   \n",
       "3      4  2016-05-28  Love coming here. Yes the place always needs t...   \n",
       "4      4  2016-05-28  Had their chocolate almond croissant and it wa...   \n",
       "\n",
       "   useful  funny  cool  \n",
       "0       0      0     0  \n",
       "1       0      0     0  \n",
       "2       0      0     0  \n",
       "3       0      0     0  \n",
       "4       0      0     0  "
      ]
     },
     "execution_count": 8,
     "metadata": {},
     "output_type": "execute_result"
    }
   ],
   "source": [
    "# LOADING THE DATASET AND SEEING THE DETAILS\n",
    "# If your computer can handle the entire dataset remove the nrows=5000 \n",
    "data = pd.read_csv('sdata.csv', nrows=5000)\n",
    "data.head()"
   ]
  },
  {
   "cell_type": "code",
   "execution_count": 9,
   "metadata": {},
   "outputs": [
    {
     "data": {
      "text/plain": [
       "0    Super simple place but amazing nonetheless. It...\n",
       "1    Small unassuming place that changes their menu...\n",
       "2    Lester's is located in a beautiful neighborhoo...\n",
       "3    Love coming here. Yes the place always needs t...\n",
       "4    Had their chocolate almond croissant and it wa...\n",
       "Name: text, dtype: object"
      ]
     },
     "execution_count": 9,
     "metadata": {},
     "output_type": "execute_result"
    }
   ],
   "source": [
    "AllReviews = data['text']\n",
    "AllReviews.head()"
   ]
  },
  {
   "cell_type": "markdown",
   "metadata": {},
   "source": [
    "<h3>Tokenizing sentences</h3>\n",
    "<p>Just like CSV data is composed of features, text data is composed of sentences. Thus, a natural first step is what is known as <a href=\"https://www.nltk.org/api/nltk.tokenize.html\"><strong>sentence tokenization</strong></a>: splitting a long document into its component sentences. At first this might seem trivial: just split whenever you see a period. Unfortunately, the same symbol is used in other ways in English (e.g. to mark an abbreviation, as part of ellipses, etc.), and so slightly more care is required. Fortunately, there are packages that will do this for us. Within <code>nltk</code>, we can use the <code>nltk.sent_tokenize()</code> function.</p>\n",
    "<p>Note: The NLP literature uses common words in technical ways. For example a \"document\" means any standalone string that might be part of a larger collection. Sometimes these might be documents as we usually think of them (articles, papers, etc) as part of a collection of such documents. However, we'd also use \"document\" to refer to each tweet in a collection of tweets, or each review in a collection of reviews (as in the dataset we'll work with now). So remember, a \"document\" is just an item containing natural language text that is part of a larger collection of similar such items.</p>"
   ]
  },
  {
   "cell_type": "markdown",
   "metadata": {},
   "source": [
    "<h3>Exercise 1:</h3>\n",
    "<p>Give an example of a question we might be able to answer with this sort of data, and another question that we'd need additional data to answer. Assume for now that all of the reviews are coming from one business.</p>"
   ]
  },
  {
   "cell_type": "markdown",
   "metadata": {
    "tags": [
     "ans_st"
    ]
   },
   "source": [
    "**Answer.**"
   ]
  },
  {
   "cell_type": "markdown",
   "metadata": {},
   "source": [
    "-------"
   ]
  },
  {
   "cell_type": "markdown",
   "metadata": {},
   "source": [
    "<p>Here, each \"document\" is just a single review. Let's take a look at the first \"document\" review in our dataset, and tokenize it:</p>"
   ]
  },
  {
   "cell_type": "code",
   "execution_count": 10,
   "metadata": {},
   "outputs": [
    {
     "data": {
      "text/plain": [
       "\"Super simple place but amazing nonetheless. It's been around since the 30's and they still serve the same thing they started with: a bologna and salami sandwich with mustard. \\n\\nStaff was very helpful and friendly.\""
      ]
     },
     "execution_count": 10,
     "metadata": {},
     "output_type": "execute_result"
    }
   ],
   "source": [
    "# Print text of first Yelp review\n",
    "AllReviews[0]"
   ]
  },
  {
   "cell_type": "code",
   "execution_count": 11,
   "metadata": {},
   "outputs": [
    {
     "name": "stdout",
     "output_type": "stream",
     "text": [
      "Super simple place but amazing nonetheless.\n",
      "\n",
      "It's been around since the 30's and they still serve the same thing they started with: a bologna and salami sandwich with mustard.\n",
      "\n",
      "Staff was very helpful and friendly.\n",
      "\n"
     ]
    }
   ],
   "source": [
    "# sentence tokenization\n",
    "sentences = nltk.sent_tokenize(AllReviews[0])\n",
    "for sentence in sentences:\n",
    "    print(sentence)\n",
    "    print()"
   ]
  },
  {
   "cell_type": "markdown",
   "metadata": {},
   "source": [
    "<p>It may seem like sentence tokenization is easy, but remember that the period <code>.</code> can be used in many different ways. In the document:</p>\n",
    "<div class=\"codehilite\"><pre><span></span><code><span class=\"err\">Tom wrote a letter to Mr. Plod, his uncle. &quot;I am arriving on Mon. 5 Jan. Please meet me at approx. 5 p.m.&quot;</span>\n",
    "</code></pre></div>\n",
    "\n",
    "\n",
    "<p>A sentence tokenizer has to be intelligent enough to tokenize this as follows:</p>\n",
    "<div class=\"codehilite\"><pre><span></span><code><span class=\"err\">[</span>\n",
    "<span class=\"err\">&quot;Tom wrote a letter to Mr. Plod, his uncle.&quot;,</span>\n",
    "<span class=\"err\">&quot;I am arriving on Mon. 5 Jan.&quot;</span>\n",
    "<span class=\"err\">&quot;Please meet me at approx. 5 p.m.&quot;</span>\n",
    "<span class=\"err\">]</span>\n",
    "</code></pre></div>\n",
    "\n",
    "\n",
    "<p>Additionally, the different ways that people use abbreviations and punctuation can make this a definitively non-trivial task.</p>"
   ]
  },
  {
   "cell_type": "markdown",
   "metadata": {},
   "source": [
    "<h3>Tokenizing words</h3>\n",
    "<p>Having split documents into sentences, we now split sentences into individual words. As with sentence tokenization, there is (i) a pretty good heuristic (split on spaces), (ii) a number of weird exceptions (e.g. compound words), and (iii) an existing package that does the job fairly well.</p>\n",
    "<p>We use the <code>nltk.word_tokenize()</code> function from <code>nltk</code>:</p>"
   ]
  },
  {
   "cell_type": "code",
   "execution_count": 12,
   "metadata": {},
   "outputs": [
    {
     "name": "stdout",
     "output_type": "stream",
     "text": [
      "Small unassuming place that changes their menu every so often.\n",
      "['Small', 'unassuming', 'place', 'that', 'changes', 'their', 'menu', 'every', 'so', 'often', '.']\n",
      "\n",
      "Cool decor and vibe inside their 30 seat restaurant.\n",
      "['Cool', 'decor', 'and', 'vibe', 'inside', 'their', '30', 'seat', 'restaurant', '.']\n",
      "\n",
      "Call for a reservation.\n",
      "['Call', 'for', 'a', 'reservation', '.']\n",
      "\n",
      "We had their beef tartar and pork belly to start and a salmon dish and lamb meal for mains.\n",
      "['We', 'had', 'their', 'beef', 'tartar', 'and', 'pork', 'belly', 'to', 'start', 'and', 'a', 'salmon', 'dish', 'and', 'lamb', 'meal', 'for', 'mains', '.']\n",
      "\n",
      "Everything was incredible!\n",
      "['Everything', 'was', 'incredible', '!']\n",
      "\n",
      "I could go on at length about how all the listed ingredients really make their dishes amazing but honestly you just need to go.\n",
      "['I', 'could', 'go', 'on', 'at', 'length', 'about', 'how', 'all', 'the', 'listed', 'ingredients', 'really', 'make', 'their', 'dishes', 'amazing', 'but', 'honestly', 'you', 'just', 'need', 'to', 'go', '.']\n",
      "\n",
      "A bit outside of downtown montreal but take the metro out and it's less than a 10 minute walk from the station.\n",
      "['A', 'bit', 'outside', 'of', 'downtown', 'montreal', 'but', 'take', 'the', 'metro', 'out', 'and', 'it', \"'s\", 'less', 'than', 'a', '10', 'minute', 'walk', 'from', 'the', 'station', '.']\n",
      "\n"
     ]
    }
   ],
   "source": [
    "sentences = nltk.sent_tokenize(data['text'][1])\n",
    "for sentence in sentences:\n",
    "    words = nltk.word_tokenize(sentence)\n",
    "    print(sentence)\n",
    "    print(words)\n",
    "    print()"
   ]
  },
  {
   "cell_type": "markdown",
   "metadata": {},
   "source": [
    "<h3>Exercise 2:</h3>\n",
    "<p>Conduct an exploratory analysis of the sizes of reviews: find the shortest and longest reviews, then plot a histogram showing the distribution of review lengths.</p>"
   ]
  },
  {
   "cell_type": "markdown",
   "metadata": {
    "tags": [
     "ans_st"
    ]
   },
   "source": [
    "**Answer.**"
   ]
  },
  {
   "cell_type": "markdown",
   "metadata": {},
   "source": [
    "-------"
   ]
  },
  {
   "cell_type": "markdown",
   "metadata": {},
   "source": [
    "<h2>Text visualization with word clouds</h2>"
   ]
  },
  {
   "cell_type": "markdown",
   "metadata": {},
   "source": [
    "<p>Just like visualization is crucial for standard CSV data, it is also important for text data. But text doesn't lend itself to histograms or scatterplots the way that numerical or even categorical data do. In such cases, <strong>word clouds</strong> are a common and <font color=\"orange\">sometimes</font> useful tool.</p>"
   ]
  },
  {
   "cell_type": "code",
   "execution_count": 14,
   "metadata": {},
   "outputs": [
    {
     "data": {
      "image/png": "[encoded data removed]",
      "text/plain": [
       "<Figure size 432x288 with 1 Axes>"
      ]
     },
     "metadata": {
      "needs_background": "light"
     },
     "output_type": "display_data"
    }
   ],
   "source": [
    "word_cloud_text = ''.join(data.text)\n",
    "wordcloud = WordCloud(max_font_size=100, max_words=100, background_color=\"white\",\\\n",
    "                          scale = 10,width=800, height=400).generate(word_cloud_text)\n",
    "plt.figure()\n",
    "plt.imshow(wordcloud, interpolation=\"bilinear\")\n",
    "plt.axis(\"off\")\n",
    "plt.show()"
   ]
  },
  {
   "cell_type": "markdown",
   "metadata": {},
   "source": [
    "<p><strong>Note:</strong> While wordclouds can be a useful way of quickly gaining high level insights into raw textual data, they are also limited. In some ways, they can be seen as the pie charts of NLP: often used, but also often hated. <a href=\"https://www.niemanlab.org/2011/10/word-clouds-considered-harmful/\">Some</a> <a href=\"https://towardsdatascience.com/can-we-please-stop-using-word-clouds-eca2bbda7b9d\">people</a> would prefer if they didn't exist at all. If used in the correct way, however, they definitely deserve their place in a data scientist's toolbelt.</p>\n",
    "<p>The main problem with word clouds is that they are difficult to interpret in a standard way. The layout algorithm has some randomness involved and although more common words are shown more prominently, it's not possible to look at a word cloud and know which words are the most important, or how much more important these are than other words. Colours and rotation are also used randomly, making some words (e.g the ones in bright colours, positioned closer to the centre, with horizontal rotation) seem more important when in fact they are no more important than other words which were randomly assigned a less noticeable combination of color, rotation, and position.</p>"
   ]
  },
  {
   "cell_type": "markdown",
   "metadata": {},
   "source": [
    "<h3>Exercise 3:</h3>\n",
    "<p>Write a function <code>word_cloud_rating(data, star_value)</code> that constructs a word cloud from the subset of <code>data</code> that exhibit a certain <code>star_value</code>. Visualize the results of this function for 1-star reviews.</p>"
   ]
  },
  {
   "cell_type": "markdown",
   "metadata": {
    "tags": [
     "ans_st"
    ]
   },
   "source": [
    "**Answer.**"
   ]
  },
  {
   "cell_type": "markdown",
   "metadata": {},
   "source": [
    "-------"
   ]
  },
  {
   "cell_type": "markdown",
   "metadata": {},
   "source": [
    "<h3>Exercise 4:</h3>\n",
    "<p>The word \"good\" seems to appear quite frequently in the negative reviews. Investigate why that is and come up with a reasonable explanation.</p>"
   ]
  },
  {
   "cell_type": "markdown",
   "metadata": {
    "tags": [
     "ans_st"
    ]
   },
   "source": [
    "**Answer.**"
   ]
  },
  {
   "cell_type": "markdown",
   "metadata": {},
   "source": [
    "-------"
   ]
  },
  {
   "cell_type": "markdown",
   "metadata": {},
   "source": [
    "<h2>n-grams</h2>\n",
    "<p>Since 1-grams are insufficient to understand the significance of certain words in our text, it is natural to consider blocks of words, or <strong>n-grams</strong>.</p>\n",
    "<p>The simplest version of the n-gram model, for $n > 1$, is the <strong>bigram</strong> model, which looks at pairs of consecutive words. For example, the sentence \"The quick brown fox jumps over the lazy dog\" would have tokens \"the quick\", \"quick brown\",..., \"lazy dog\". The following image explains this concept:</p>\n",
    "<p><img src=\"ngrams.png\" alt=\"ngrams\" width=\"500\"/></p>\n",
    "<p>This has obvious advantages and disadvantages over looking at words individually:</p>\n",
    "<ol>\n",
    "<li>This retains the structure of the overall document, and</li>\n",
    "<li>It paves the way for analyzing words in contex; however,</li>\n",
    "<li>The dimension is vastly larger</li>\n",
    "</ol>\n",
    "<p>In practice, this last challenge can be truly daunting. As an example, <em>War and Peace</em> has 3 million characters, which translates to several hundred thousand 1-grams (words). If you consider that the set of all possible bigrams can be as large as the square of the number of 1-grams, this gets us to a hundred billion possible bigrams! If classical ML techniques are not suitable for training on 3 million characters, how can they possibly deal with a hundred billion dimensions?</p>\n",
    "<p>For this reason, it is often prudent to start by extracting as much value out of 1-grams as possible, before working our way up to more complex structures.</p>"
   ]
  },
  {
   "cell_type": "markdown",
   "metadata": {},
   "source": [
    "<p>In this section we also start to look again at our main application: calculating some \"interesting\" features of our corpus of reviews.</p>\n",
    "<p>When thinking about word analysis, the main topic of interest is finding an <em>efficient</em> and <em>low-dimensional</em> representation in order to facilitate document visualization and larger-scale analyses. We discuss two broad categories of word representations:</p>\n",
    "<ol>\n",
    "<li><code>Count-based representations</code>: word-word and word-document matrices.</li>\n",
    "<li><code>Word embeddings</code>: spectral embedding, UMAP, word2vec, GloVe, and many many more.</li>\n",
    "</ol>\n",
    "<p>These are often used to assist with downstream tasks such as clustering, ranking and labeling, which will be briefly discussed in a future case. Word embeddings in particular have become something of a posterchild. These, combined with neural networks (which will also be discussed in a future case!), have led to many of the recent headline improvements in NLP tasks.</p>"
   ]
  },
  {
   "cell_type": "markdown",
   "metadata": {},
   "source": [
    "<h3>Count-based representations</h3>\n",
    "<p>n-grams fall under a broader category of techniques otherwise known as <a href=\"https://scikit-learn.org/stable/modules/feature_extraction.html#common-vectorizer-usage\"><strong>count-based representations</strong></a>. These are techniques to analyze documents by indicating how frequently certain types of structures occur throughout.</p>\n",
    "<p>Let's start with 1-grams (words). The simplest type of information would be whether a particular word occurs in particular documents. This leads to <strong>word-document co-occurrence matrices</strong>, where the $(W, X)$ entry of the word-document matrix is set to 1 if word $W$ occurs in document $X$, and 0 otherwise.</p>\n",
    "<p>There are many variants of this. In lieu of the fact that we are looking for count-based representations of our documents, one natural variable is the following: the $(W, X)$ entry of the word-document matrix equals the number of times that word $W$ occurs in document $X$, rather than merely being a binary variable.</p>\n",
    "<p>Let's create a word-document co-occurrence matrix for our set of reviews:</p>"
   ]
  },
  {
   "cell_type": "code",
   "execution_count": 15,
   "metadata": {},
   "outputs": [
    {
     "data": {
      "text/html": [
       "<div>\n",
       "<style scoped>\n",
       "    .dataframe tbody tr th:only-of-type {\n",
       "        vertical-align: middle;\n",
       "    }\n",
       "\n",
       "    .dataframe tbody tr th {\n",
       "        vertical-align: top;\n",
       "    }\n",
       "\n",
       "    .dataframe thead th {\n",
       "        text-align: right;\n",
       "    }\n",
       "</style>\n",
       "<table border=\"1\" class=\"dataframe\">\n",
       "  <thead>\n",
       "    <tr style=\"text-align: right;\">\n",
       "      <th></th>\n",
       "      <th>00</th>\n",
       "      <th>000</th>\n",
       "      <th>0014</th>\n",
       "      <th>00a</th>\n",
       "      <th>00am</th>\n",
       "      <th>00p</th>\n",
       "      <th>00pm</th>\n",
       "      <th>01</th>\n",
       "      <th>0146</th>\n",
       "      <th>0148</th>\n",
       "      <th>...</th>\n",
       "      <th>été</th>\n",
       "      <th>évaluation</th>\n",
       "      <th>éventuellement</th>\n",
       "      <th>évidemment</th>\n",
       "      <th>évite</th>\n",
       "      <th>éviter</th>\n",
       "      <th>évènement</th>\n",
       "      <th>évènements</th>\n",
       "      <th>êtes</th>\n",
       "      <th>être</th>\n",
       "    </tr>\n",
       "  </thead>\n",
       "  <tbody>\n",
       "    <tr>\n",
       "      <th>0</th>\n",
       "      <td>0</td>\n",
       "      <td>0</td>\n",
       "      <td>0</td>\n",
       "      <td>0</td>\n",
       "      <td>0</td>\n",
       "      <td>0</td>\n",
       "      <td>0</td>\n",
       "      <td>0</td>\n",
       "      <td>0</td>\n",
       "      <td>0</td>\n",
       "      <td>...</td>\n",
       "      <td>0</td>\n",
       "      <td>0</td>\n",
       "      <td>0</td>\n",
       "      <td>0</td>\n",
       "      <td>0</td>\n",
       "      <td>0</td>\n",
       "      <td>0</td>\n",
       "      <td>0</td>\n",
       "      <td>0</td>\n",
       "      <td>0</td>\n",
       "    </tr>\n",
       "    <tr>\n",
       "      <th>1</th>\n",
       "      <td>0</td>\n",
       "      <td>0</td>\n",
       "      <td>0</td>\n",
       "      <td>0</td>\n",
       "      <td>0</td>\n",
       "      <td>0</td>\n",
       "      <td>0</td>\n",
       "      <td>0</td>\n",
       "      <td>0</td>\n",
       "      <td>0</td>\n",
       "      <td>...</td>\n",
       "      <td>0</td>\n",
       "      <td>0</td>\n",
       "      <td>0</td>\n",
       "      <td>0</td>\n",
       "      <td>0</td>\n",
       "      <td>0</td>\n",
       "      <td>0</td>\n",
       "      <td>0</td>\n",
       "      <td>0</td>\n",
       "      <td>0</td>\n",
       "    </tr>\n",
       "    <tr>\n",
       "      <th>2</th>\n",
       "      <td>0</td>\n",
       "      <td>0</td>\n",
       "      <td>0</td>\n",
       "      <td>0</td>\n",
       "      <td>0</td>\n",
       "      <td>0</td>\n",
       "      <td>0</td>\n",
       "      <td>0</td>\n",
       "      <td>0</td>\n",
       "      <td>0</td>\n",
       "      <td>...</td>\n",
       "      <td>0</td>\n",
       "      <td>0</td>\n",
       "      <td>0</td>\n",
       "      <td>0</td>\n",
       "      <td>0</td>\n",
       "      <td>0</td>\n",
       "      <td>0</td>\n",
       "      <td>0</td>\n",
       "      <td>0</td>\n",
       "      <td>0</td>\n",
       "    </tr>\n",
       "    <tr>\n",
       "      <th>3</th>\n",
       "      <td>0</td>\n",
       "      <td>0</td>\n",
       "      <td>0</td>\n",
       "      <td>0</td>\n",
       "      <td>0</td>\n",
       "      <td>0</td>\n",
       "      <td>0</td>\n",
       "      <td>0</td>\n",
       "      <td>0</td>\n",
       "      <td>0</td>\n",
       "      <td>...</td>\n",
       "      <td>0</td>\n",
       "      <td>0</td>\n",
       "      <td>0</td>\n",
       "      <td>0</td>\n",
       "      <td>0</td>\n",
       "      <td>0</td>\n",
       "      <td>0</td>\n",
       "      <td>0</td>\n",
       "      <td>0</td>\n",
       "      <td>0</td>\n",
       "    </tr>\n",
       "    <tr>\n",
       "      <th>4</th>\n",
       "      <td>0</td>\n",
       "      <td>0</td>\n",
       "      <td>0</td>\n",
       "      <td>0</td>\n",
       "      <td>0</td>\n",
       "      <td>0</td>\n",
       "      <td>0</td>\n",
       "      <td>0</td>\n",
       "      <td>0</td>\n",
       "      <td>0</td>\n",
       "      <td>...</td>\n",
       "      <td>0</td>\n",
       "      <td>0</td>\n",
       "      <td>0</td>\n",
       "      <td>0</td>\n",
       "      <td>0</td>\n",
       "      <td>0</td>\n",
       "      <td>0</td>\n",
       "      <td>0</td>\n",
       "      <td>0</td>\n",
       "      <td>0</td>\n",
       "    </tr>\n",
       "  </tbody>\n",
       "</table>\n",
       "<p>5 rows × 23768 columns</p>\n",
       "</div>"
      ],
      "text/plain": [
       "   00  000  0014  00a  00am  00p  00pm  01  0146  0148  ...  été  évaluation  \\\n",
       "0   0    0     0    0     0    0     0   0     0     0  ...    0           0   \n",
       "1   0    0     0    0     0    0     0   0     0     0  ...    0           0   \n",
       "2   0    0     0    0     0    0     0   0     0     0  ...    0           0   \n",
       "3   0    0     0    0     0    0     0   0     0     0  ...    0           0   \n",
       "4   0    0     0    0     0    0     0   0     0     0  ...    0           0   \n",
       "\n",
       "   éventuellement  évidemment  évite  éviter  évènement  évènements  êtes  \\\n",
       "0               0           0      0       0          0           0     0   \n",
       "1               0           0      0       0          0           0     0   \n",
       "2               0           0      0       0          0           0     0   \n",
       "3               0           0      0       0          0           0     0   \n",
       "4               0           0      0       0          0           0     0   \n",
       "\n",
       "   être  \n",
       "0     0  \n",
       "1     0  \n",
       "2     0  \n",
       "3     0  \n",
       "4     0  \n",
       "\n",
       "[5 rows x 23768 columns]"
      ]
     },
     "execution_count": 15,
     "metadata": {},
     "output_type": "execute_result"
    }
   ],
   "source": [
    "# The following code creates a word-document matrix.\n",
    "\n",
    "vec = CountVectorizer()\n",
    "X = vec.fit_transform(AllReviews)\n",
    "df = pd.DataFrame(X.toarray(), columns=vec.get_feature_names())\n",
    "df.head()"
   ]
  },
  {
   "cell_type": "markdown",
   "metadata": {},
   "source": [
    "<h3>Exercise 5:</h3>\n",
    "<p>Find all the high-frequency (top 1%) and low-frequency (bottom 1%) words in the reviews overall. (Hint: import the <code>Counter()</code> function from the <code>collections</code> class.)</p>"
   ]
  },
  {
   "cell_type": "markdown",
   "metadata": {
    "tags": [
     "ans_st"
    ]
   },
   "source": [
    "**Answer.**"
   ]
  },
  {
   "cell_type": "markdown",
   "metadata": {},
   "source": [
    "-------"
   ]
  },
  {
   "cell_type": "markdown",
   "metadata": {},
   "source": [
    "<h3>Exercise 6:</h3>\n",
    "<p>Write a function called <code>top_k_ngrams(word_tokens, n, k)</code> for printing out the top $k$ n-grams. Use this function to get the top 10 1-grams, 2-grams, and 3-grams from the first 1000 reviews in our dataset.</p>"
   ]
  },
  {
   "cell_type": "markdown",
   "metadata": {
    "tags": [
     "ans_st"
    ]
   },
   "source": [
    "**Answer.**"
   ]
  },
  {
   "cell_type": "markdown",
   "metadata": {},
   "source": [
    "-------"
   ]
  },
  {
   "cell_type": "markdown",
   "metadata": {},
   "source": [
    "<h2>Stop words</h2>\n",
    "<p>You may have noticed a pattern in the types of words that show up in the top 10 1-grams, 2-grams, and 3-grams. In particular, these are common words that appear in every sentence of the English language: pronoums like \"I\", prepositions like \"but\", \"of\", \"and\", articles like \"the\", etc. These very common words are usually uninformative, and their very large occurrence values can distort the results of many NLP algorithms.</p>\n",
    "<p>For this reason, it is common to pre-process text by removing words that you have a reason to believe are uninformative; these words are called <a href=\"https://en.wikipedia.org/wiki/Stop_words\"><strong>stop words</strong></a>. Usually, it suffices to simply treat extremely common words as stop words. However, for specific types of applications it might make sense to use other stop words; e.g. the word \"burger\" when analyzing reviews of burger chains.</p>\n",
    "<p>(Note that stop words are often removed by default as a cleaning step in all NLP tasks. However, sometimes they can be useful. For example in authorship attribution (automatically detecting who wrote a specific piece of text by their 'writing style'), stop words can be one of the most useful features, as they appear in nearly all texts, and yet each author uses them in slightly different ways.)</p>\n",
    "<p>The <code>nltk</code> library has a standard list of stopwords, which you can download by writing <code>nltk.download(“stopwords”)</code>. We can then load the stopwords package from the nltk.corpus and use it to load the stop words:</p>"
   ]
  },
  {
   "cell_type": "code",
   "execution_count": 16,
   "metadata": {},
   "outputs": [
    {
     "name": "stdout",
     "output_type": "stream",
     "text": [
      "['i', 'me', 'my', 'myself', 'we', 'our', 'ours', 'ourselves', 'you', \"you're\", \"you've\", \"you'll\", \"you'd\", 'your', 'yours', 'yourself', 'yourselves', 'he', 'him', 'his', 'himself', 'she', \"she's\", 'her', 'hers', 'herself', 'it', \"it's\", 'its', 'itself', 'they', 'them', 'their', 'theirs', 'themselves', 'what', 'which', 'who', 'whom', 'this', 'that', \"that'll\", 'these', 'those', 'am', 'is', 'are', 'was', 'were', 'be', 'been', 'being', 'have', 'has', 'had', 'having', 'do', 'does', 'did', 'doing', 'a', 'an', 'the', 'and', 'but', 'if', 'or', 'because', 'as', 'until', 'while', 'of', 'at', 'by', 'for', 'with', 'about', 'against', 'between', 'into', 'through', 'during', 'before', 'after', 'above', 'below', 'to', 'from', 'up', 'down', 'in', 'out', 'on', 'off', 'over', 'under', 'again', 'further', 'then', 'once', 'here', 'there', 'when', 'where', 'why', 'how', 'all', 'any', 'both', 'each', 'few', 'more', 'most', 'other', 'some', 'such', 'no', 'nor', 'not', 'only', 'own', 'same', 'so', 'than', 'too', 'very', 's', 't', 'can', 'will', 'just', 'don', \"don't\", 'should', \"should've\", 'now', 'd', 'll', 'm', 'o', 're', 've', 'y', 'ain', 'aren', \"aren't\", 'couldn', \"couldn't\", 'didn', \"didn't\", 'doesn', \"doesn't\", 'hadn', \"hadn't\", 'hasn', \"hasn't\", 'haven', \"haven't\", 'isn', \"isn't\", 'ma', 'mightn', \"mightn't\", 'mustn', \"mustn't\", 'needn', \"needn't\", 'shan', \"shan't\", 'shouldn', \"shouldn't\", 'wasn', \"wasn't\", 'weren', \"weren't\", 'won', \"won't\", 'wouldn', \"wouldn't\"]\n"
     ]
    },
    {
     "name": "stderr",
     "output_type": "stream",
     "text": [
      "[nltk_data] Downloading package stopwords to C:\\Users\\Mohammed\n",
      "[nltk_data]     Ibraheem\\AppData\\Roaming\\nltk_data...\n",
      "[nltk_data]   Package stopwords is already up-to-date!\n"
     ]
    }
   ],
   "source": [
    "nltk.download('stopwords')\n",
    "from nltk.corpus import stopwords\n",
    "print(stopwords.words(\"english\"))"
   ]
  },
  {
   "cell_type": "markdown",
   "metadata": {},
   "source": [
    "<p>You can get a list of all the Spanish stop words as well:</p>"
   ]
  },
  {
   "cell_type": "code",
   "execution_count": 27,
   "metadata": {},
   "outputs": [
    {
     "name": "stdout",
     "output_type": "stream",
     "text": [
      "['de', 'la', 'que', 'el', 'en', 'y', 'a', 'los', 'del', 'se', 'las', 'por', 'un', 'para', 'con', 'no', 'una', 'su', 'al', 'lo', 'como', 'más', 'pero', 'sus', 'le', 'ya', 'o', 'este', 'sí', 'porque', 'esta', 'entre', 'cuando', 'muy', 'sin', 'sobre', 'también', 'me', 'hasta', 'hay', 'donde', 'quien', 'desde', 'todo', 'nos', 'durante', 'todos', 'uno', 'les', 'ni', 'contra', 'otros', 'ese', 'eso', 'ante', 'ellos', 'e', 'esto', 'mí', 'antes', 'algunos', 'qué', 'unos', 'yo', 'otro', 'otras', 'otra', 'él', 'tanto', 'esa', 'estos', 'mucho', 'quienes', 'nada', 'muchos', 'cual', 'poco', 'ella', 'estar', 'estas', 'algunas', 'algo', 'nosotros', 'mi', 'mis', 'tú', 'te', 'ti', 'tu', 'tus', 'ellas', 'nosotras', 'vosotros', 'vosotras', 'os', 'mío', 'mía', 'míos', 'mías', 'tuyo', 'tuya', 'tuyos', 'tuyas', 'suyo', 'suya', 'suyos', 'suyas', 'nuestro', 'nuestra', 'nuestros', 'nuestras', 'vuestro', 'vuestra', 'vuestros', 'vuestras', 'esos', 'esas', 'estoy', 'estás', 'está', 'estamos', 'estáis', 'están', 'esté', 'estés', 'estemos', 'estéis', 'estén', 'estaré', 'estarás', 'estará', 'estaremos', 'estaréis', 'estarán', 'estaría', 'estarías', 'estaríamos', 'estaríais', 'estarían', 'estaba', 'estabas', 'estábamos', 'estabais', 'estaban', 'estuve', 'estuviste', 'estuvo', 'estuvimos', 'estuvisteis', 'estuvieron', 'estuviera', 'estuvieras', 'estuviéramos', 'estuvierais', 'estuvieran', 'estuviese', 'estuvieses', 'estuviésemos', 'estuvieseis', 'estuviesen', 'estando', 'estado', 'estada', 'estados', 'estadas', 'estad', 'he', 'has', 'ha', 'hemos', 'habéis', 'han', 'haya', 'hayas', 'hayamos', 'hayáis', 'hayan', 'habré', 'habrás', 'habrá', 'habremos', 'habréis', 'habrán', 'habría', 'habrías', 'habríamos', 'habríais', 'habrían', 'había', 'habías', 'habíamos', 'habíais', 'habían', 'hube', 'hubiste', 'hubo', 'hubimos', 'hubisteis', 'hubieron', 'hubiera', 'hubieras', 'hubiéramos', 'hubierais', 'hubieran', 'hubiese', 'hubieses', 'hubiésemos', 'hubieseis', 'hubiesen', 'habiendo', 'habido', 'habida', 'habidos', 'habidas', 'soy', 'eres', 'es', 'somos', 'sois', 'son', 'sea', 'seas', 'seamos', 'seáis', 'sean', 'seré', 'serás', 'será', 'seremos', 'seréis', 'serán', 'sería', 'serías', 'seríamos', 'seríais', 'serían', 'era', 'eras', 'éramos', 'erais', 'eran', 'fui', 'fuiste', 'fue', 'fuimos', 'fuisteis', 'fueron', 'fuera', 'fueras', 'fuéramos', 'fuerais', 'fueran', 'fuese', 'fueses', 'fuésemos', 'fueseis', 'fuesen', 'sintiendo', 'sentido', 'sentida', 'sentidos', 'sentidas', 'siente', 'sentid', 'tengo', 'tienes', 'tiene', 'tenemos', 'tenéis', 'tienen', 'tenga', 'tengas', 'tengamos', 'tengáis', 'tengan', 'tendré', 'tendrás', 'tendrá', 'tendremos', 'tendréis', 'tendrán', 'tendría', 'tendrías', 'tendríamos', 'tendríais', 'tendrían', 'tenía', 'tenías', 'teníamos', 'teníais', 'tenían', 'tuve', 'tuviste', 'tuvo', 'tuvimos', 'tuvisteis', 'tuvieron', 'tuviera', 'tuvieras', 'tuviéramos', 'tuvierais', 'tuvieran', 'tuviese', 'tuvieses', 'tuviésemos', 'tuvieseis', 'tuviesen', 'teniendo', 'tenido', 'tenida', 'tenidos', 'tenidas', 'tened']\n"
     ]
    }
   ],
   "source": [
    "print(stopwords.words(\"spanish\"))"
   ]
  },
  {
   "cell_type": "markdown",
   "metadata": {},
   "source": [
    "<h3>Exercise 7:</h3>\n",
    "<h4>7.1</h4>\n",
    "<p>Filter out all of the stop words in the first review of the Yelp review data and print out your answer. Additionally, print out (separately) the stopwords you found in this review.</p>"
   ]
  },
  {
   "cell_type": "markdown",
   "metadata": {
    "tags": [
     "ans_st"
    ]
   },
   "source": [
    "**Answer.**"
   ]
  },
  {
   "cell_type": "markdown",
   "metadata": {},
   "source": [
    "-------"
   ]
  },
  {
   "cell_type": "markdown",
   "metadata": {},
   "source": [
    "<h4>7.2</h4>\n",
    "<p>Modify the function <code>top_k_ngrams(word_tokens, n, k)</code> to remove stop words before determining the top n-grams.</p>"
   ]
  },
  {
   "cell_type": "markdown",
   "metadata": {
    "tags": [
     "ans_st"
    ]
   },
   "source": [
    "**Answer.**"
   ]
  },
  {
   "cell_type": "markdown",
   "metadata": {},
   "source": [
    "-------"
   ]
  },
  {
   "cell_type": "markdown",
   "metadata": {},
   "source": [
    "<p>In some contexts, it is common to remove both very common and very <em>uncommon</em> words. The idea is that common words like \"a\" are almost never informative, while uncommon words like \"syzygy\" occur so infrequently in a corpus that many algorithms have a hard time processing them in a meaningful way. We will not deal with uncommon words today, but you should be aware that doing so improves the performance of several NLP techniques.</p>"
   ]
  },
  {
   "cell_type": "markdown",
   "metadata": {},
   "source": [
    "<h2>Finding important words</h2>\n",
    "<p>Up to this point, we have focused on techniques for transforming our data. We are now ready to start looking for some answers, so let's take a break from discussing techniques so we can explore our dataset and various ways to summarize it.</p>\n",
    "<p>We begin by looking at the words and n-grams that are most common in positive and negative reviews. Note that in the following code, we don't reuse many of the pre-processing steps discussed at the start of the tutorial. This is because many of them are included as options in existing packages. In a serious project one would often customize this pre-processing to some degree, but we skip this in order to get some displayable results.</p>"
   ]
  },
  {
   "cell_type": "code",
   "execution_count": 18,
   "metadata": {},
   "outputs": [],
   "source": [
    "# Following code grabbed from:\n",
    "# https://towardsdatascience.com/a-complete-exploratory-data-analysis-and-visualization-for-text-data-29fb1b96fb6a\n",
    "# we will use it in our context to create some visualizations.\n",
    "def get_top_n_words(corpus, n=1,k=1):\n",
    "    vec = CountVectorizer(ngram_range=(k,k),stop_words = 'english').fit(corpus)\n",
    "    bag_of_words = vec.transform(corpus)\n",
    "    sum_words = bag_of_words.sum(axis=0) \n",
    "    words_freq = [(word, sum_words[0, idx]) for word, idx in vec.vocabulary_.items()]\n",
    "    words_freq =sorted(words_freq, key = lambda x: x[1], reverse=True)\n",
    "    return words_freq[:n]"
   ]
  },
  {
   "cell_type": "code",
   "execution_count": 19,
   "metadata": {},
   "outputs": [
    {
     "name": "stdout",
     "output_type": "stream",
     "text": [
      "place 2975\n",
      "good 2893\n",
      "food 2716\n",
      "just 2337\n",
      "like 2301\n",
      "great 2088\n",
      "time 1974\n",
      "really 1846\n",
      "service 1624\n",
      "ve 1386\n",
      "don 1219\n",
      "nice 1202\n",
      "little 1169\n",
      "ordered 1147\n",
      "try 988\n",
      "came 961\n",
      "menu 950\n",
      "pretty 938\n",
      "love 933\n",
      "order 928\n"
     ]
    },
    {
     "data": {
      "text/plain": [
       "<matplotlib.axes._subplots.AxesSubplot at 0x1acd52b5848>"
      ]
     },
     "execution_count": 19,
     "metadata": {},
     "output_type": "execute_result"
    },
    {
     "data": {
      "image/png": "[encoded data removed]",
      "text/plain": [
       "<Figure size 432x288 with 1 Axes>"
      ]
     },
     "metadata": {
      "needs_background": "light"
     },
     "output_type": "display_data"
    }
   ],
   "source": [
    "# We start by getting a list of the most common words.\n",
    "\n",
    "common_words = get_top_n_words(data['text'], 20,1)\n",
    "for word, freq in common_words:\n",
    "    print(word, freq)\n",
    "df = pd.DataFrame(common_words, columns = ['ReviewText' , 'count'])\n",
    "df.groupby('ReviewText').sum()['count'].sort_values(ascending=False).plot(\n",
    "    kind='bar',  title='Top 20 words from all reviews')\n"
   ]
  },
  {
   "cell_type": "markdown",
   "metadata": {},
   "source": [
    "<h3>Exercise 8:</h3>\n",
    "<h4>8.1</h4>\n",
    "<p>Divide the data into \"good reviews\" (i.e. <code>stars</code> rating was greater than 3) and \"bad reviews\" (i.e. <code>stars</code> rating was less than 3) and make a bar plot of the top 20 words in each case. Are these results different from above?</p>"
   ]
  },
  {
   "cell_type": "markdown",
   "metadata": {
    "tags": [
     "ans_st"
    ]
   },
   "source": [
    "**Answer.**"
   ]
  },
  {
   "cell_type": "markdown",
   "metadata": {},
   "source": [
    "-------"
   ]
  },
  {
   "cell_type": "markdown",
   "metadata": {},
   "source": [
    "<h4>8.2</h4>\n",
    "<p>Use the <code>get_top_n_words()</code> function to find the top 20 bigrams and trigrams. Do the results seem useful?</p>"
   ]
  },
  {
   "cell_type": "markdown",
   "metadata": {
    "tags": [
     "ans_st"
    ]
   },
   "source": [
    "**Answer.**"
   ]
  },
  {
   "cell_type": "markdown",
   "metadata": {},
   "source": [
    "-------"
   ]
  },
  {
   "cell_type": "markdown",
   "metadata": {},
   "source": [
    "<h3>Question:</h3>\n",
    "<p>Look at the 5 most important bigrams for bad reviews. What <em>single, specific</em> problem seems to be the most important driver of bad reviews?</p>"
   ]
  },
  {
   "cell_type": "markdown",
   "metadata": {},
   "source": [
    "<p>Three of the top 5 bigrams were \"20 minutes\", \"15 minutes\", and \"10 minutes.\" These are all times, <em>strongly</em> suggesting that <em>waiting time for service</em> is a main driver for bad review scores.</p>"
   ]
  },
  {
   "cell_type": "markdown",
   "metadata": {},
   "source": [
    "<h3>Exercise 9:</h3>\n",
    "<h4>9.1</h4>\n",
    "<p>You may have noticed that many of the important \"bad\" bigrams included the words \"like\" or \"just\" but didn't seem very informative (e.g. \"felt like\", \"food just\"). Give some ideas of how to use this sort of observation in future pre-processing of reviews, based on the pre-processing ideas we have already studied.</p>"
   ]
  },
  {
   "cell_type": "markdown",
   "metadata": {
    "tags": [
     "ans_st"
    ]
   },
   "source": [
    "**Answer.**"
   ]
  },
  {
   "cell_type": "markdown",
   "metadata": {},
   "source": [
    "-------"
   ]
  },
  {
   "cell_type": "markdown",
   "metadata": {},
   "source": [
    "<h4>9.2</h4>\n",
    "<p>Building on the previous question, we note that most of the most important complaints and compliments can't be <em>completely</em> observed by looking at bigrams or trigrams. This can often be fixed by small modifications. Do the following:</p>\n",
    "<ol>\n",
    "<li>Write down a complaint that is unlikely to be (completely) picked up by bigram analysis. Hint: what might you write if your hamburger was served cold?</li>\n",
    "<li>Write down a processing step that would fix this problem. Try to find a solution that would work for several similar problems without additional human input.</li>\n",
    "</ol>"
   ]
  },
  {
   "cell_type": "markdown",
   "metadata": {
    "tags": [
     "ans_st"
    ]
   },
   "source": [
    "**Answer.**"
   ]
  },
  {
   "cell_type": "markdown",
   "metadata": {},
   "source": [
    "-------"
   ]
  },
  {
   "cell_type": "markdown",
   "metadata": {},
   "source": [
    "## Regular Expressions (25 min)\n",
    "\n",
    "Having spent a lot of time on n-grams and how to featurize a document using them, we now take a break from `nltk` tools to introduce the most important text wrangling tool in Python (and many other languages): [**regular expressions**](https://en.wikipedia.org/wiki/Regular_expression).\n",
    "\n",
    "The basic idea here is that you often want to perform some specific transformation (e.g. delete or substitute) every time that some possibly-complicated pattern (e.g. the letter 'A', the word 'hello', any word containing the letters 'a','r' in that order) occurs. Regular expressions are a compact and powerful language for expressing these sorts of patterns. This is super important whenever you are trying to clean a text dataset that contains thematically similar, but not exactly, the same errors. \n",
    "\n",
    "The terse syntax of regular expressions has led to them having a reputation for being [almost magical](https://xkcd.com/208/) in some situations (with only a few characters, you can build complete computer programs) but also for being difficult to create and read, which can [create more problems](https://xkcd.com/1171/) than they solve.\n",
    "\n",
    "In Python, [the `re` module](https://docs.python.org/3/library/re.html) provides regular expression matching operations and common operations. Regular expressions are a deep subject, with some documentation here: https://docs.python.org/3/library/re.html?highlight=regex.\n",
    "\n",
    "As some simple examples, we have:\n",
    "\n",
    "1. `.` matches any character except \\n (newline)\n",
    "2. `\\d` matches any digit (this can also be written as [0-9])\n",
    "3. `\\D` matches any non-digit (this can also be written as [^0-9])\n",
    "4. `\\w` matches any alphanumeric character ([a-zA-Z0-9_])\n",
    "5. `\\W` matches any non-alphanumeric character ([^a-zA-Z0-9_])\n",
    "\n",
    "As some more complex examples, regular expressions also allow you to quantify the number of times matches can occur. For example,\n",
    "\n",
    "1. `[a-d]+` matches any time you get $\\{a,b,c,d\\}$ one or more times in a row\n",
    "2. `[a-d]{3}` matches any time you get them exactly 3 times in a row\n",
    "3. `[a-d]*` matches any time you get them 0 or more times in a row\n",
    "\n",
    "For now, we give a simple application based on the  `re.sub()` function, which substitutes words that match a pattern:"
   ]
  },
  {
   "cell_type": "code",
   "execution_count": 20,
   "metadata": {},
   "outputs": [
    {
     "name": "stdout",
     "output_type": "stream",
     "text": [
      "That was an  interesting  way to cook bread \n"
     ]
    }
   ],
   "source": [
    "sentence = 'That was an \"interesting\" way to cook bread.'\n",
    "pattern = r\"[^\\w]\" # the ^ character denotes 'not', \n",
    "#                   the \\w character denotes a word, and []  means\n",
    "#                    anything that matches anything in the brackets. \n",
    "#                     Together, this refers to any character that is not a word.\n",
    "print(re.sub(pattern, \" \", sentence))"
   ]
  },
  {
   "cell_type": "code",
   "execution_count": 21,
   "metadata": {},
   "outputs": [
    {
     "name": "stdout",
     "output_type": "stream",
     "text": [
      "(7, 9)\n",
      "lo\n",
      "(31, 33)\n",
      "lo\n",
      "(42, 44)\n",
      "lo\n"
     ]
    }
   ],
   "source": [
    "str = \"Natesh loves all the foold and loveds sdaslo\"\n",
    "x   = re.compile('lo')\n",
    "iterator = x.finditer(str)\n",
    "for item in iterator:\n",
    "    print(item.span())\n",
    "    print(item.group())"
   ]
  },
  {
   "cell_type": "markdown",
   "metadata": {},
   "source": [
    "<h3>Exercise 10:</h3>\n",
    "<h4>10.1</h4>\n",
    "<ol>\n",
    "<li>Use the <code>re.split()</code> function to split the first Yelp review into a list of its constituent words.</li>\n",
    "<li>Use the <code>re.findall()</code> function to search the first 30 reviews for the number of times they contain the word \"food\". Print the maximum number of times the word \"food\" is mentioned in a single review.</li>\n",
    "</ol>"
   ]
  },
  {
   "cell_type": "markdown",
   "metadata": {
    "tags": [
     "ans_st"
    ]
   },
   "source": [
    "**Answer.**"
   ]
  },
  {
   "cell_type": "markdown",
   "metadata": {},
   "source": [
    "-------"
   ]
  },
  {
   "cell_type": "markdown",
   "metadata": {},
   "source": [
    "<h4>10.2</h4>\n",
    "<p>Using regular expressions, find the percentage of reviews in top 500 reviews that have numbers in them.</p>"
   ]
  },
  {
   "cell_type": "markdown",
   "metadata": {
    "tags": [
     "ans_st"
    ]
   },
   "source": [
    "**Answer.**"
   ]
  },
  {
   "cell_type": "markdown",
   "metadata": {},
   "source": [
    "-------"
   ]
  },
  {
   "cell_type": "markdown",
   "metadata": {},
   "source": [
    "<h4>10.3</h4>\n",
    "<p>Using the above as a template, write a generalized function that can extract the first word following \"good\". Don't forget to include a default behavior for when the word doesn't appear in the sentence. Run this function for all reviews and print the first 300 results for reviews that do contain the word \"good\".</p>"
   ]
  },
  {
   "cell_type": "markdown",
   "metadata": {
    "tags": [
     "ans_st"
    ]
   },
   "source": [
    "**Answer.**"
   ]
  },
  {
   "cell_type": "markdown",
   "metadata": {},
   "source": [
    "-------"
   ]
  },
  {
   "cell_type": "markdown",
   "metadata": {},
   "source": [
    "<p>Skimming over the results of the previous exercise, a few things stood out:</p>\n",
    "<ol>\n",
    "<li>People like to talk about good burgers – this appeared 5 times in the first 300 results.</li>\n",
    "<li>A large number of the results are useless. One common problem is the occurrence of a sentence boundary; e.g. \"good. The\" near the start of the list. In this case, we should look <em>before</em> the word \"good\" rather than after. However, we can't look <em>immediately</em> before good – that word will usually be some conjugation of \"to be\", which is also not informative – rather, we need to look for a word before \"good\" that isn't too boring. Other times, there is a word following \"good\" that is uninformative; e.g. \"good for\" – we want to know <em>what</em> something was good for! In this case, we should keep on skimming <em>forward</em> until we see a word following \"good\" that isn't too boring.</li>\n",
    "</ol>\n",
    "<p>In both of these cases, we can't use simple regular expressions by themselves, as regular expressions don't know how to ignore \"boring\" words. Regular expressions can only help us filter for the structure of words, not the content they convey within a context. We <em>can</em> use what we learned about stop words to remove these from the reviews before conducting the above analysis, but as we have been, we will still sometimes get not very informative phrases like \"was cold\" or \"served cold\". So we will introduce an alternative method, which can be applied to serve as an even better remover of stop words: <strong>part-of-speech tagging</strong>.</p>"
   ]
  },
  {
   "cell_type": "markdown",
   "metadata": {},
   "source": [
    "<h2>Part-of-speech (POS) tagging</h2>\n",
    "<p>In English, there are eight main parts of speech - <code>nouns</code>, <code>pronouns</code>, <code>adjectives</code>, <code>verbs</code>, <code>adverbs</code>, <code>prepositions</code>, <code>conjunctions</code> and <code>interjections</code>. These are\n",
    "<code>sustantivos</code>, <code>pronombres</code>, <code>adjetivos</code>, <code>verbos</code>, <code>adverbios</code>, <code>preposiciones</code>, <code>conjunciones</code> and <code>interjecciones</code>, respectively, in Spanish. The purpose of POS tagging is to label each word in a document with its part of speech.</p>\n",
    "<p>Unsurprisingly, <a href=\"http://www.nltk.org/book/ch05.html\">POS tagging</a> can be very difficult to do by hand. <code>nltk</code> has a default function for this, called <code>nltk.pos_tag()</code>, which we will use. As a word of warning, this function is far from infallible, especially on informal text (e.g. website reviews, forum posts, text messages, etc), and words in English often exhibit POS drift (e.g. the drift of \"Google\" from noun to verb): </p>"
   ]
  },
  {
   "cell_type": "code",
   "execution_count": 29,
   "metadata": {},
   "outputs": [
    {
     "name": "stderr",
     "output_type": "stream",
     "text": [
      "[nltk_data] Downloading package averaged_perceptron_tagger to\n",
      "[nltk_data]     C:\\Users\\Mohammed\n",
      "[nltk_data]     Ibraheem\\AppData\\Roaming\\nltk_data...\n",
      "[nltk_data]   Package averaged_perceptron_tagger is already up-to-\n",
      "[nltk_data]       date!\n"
     ]
    },
    {
     "data": {
      "text/plain": [
       "[('Natesh', 'NNP'),\n",
       " ('is', 'VBZ'),\n",
       " ('having', 'VBG'),\n",
       " ('a', 'DT'),\n",
       " ('good', 'JJ'),\n",
       " ('day', 'NN')]"
      ]
     },
     "execution_count": 29,
     "metadata": {},
     "output_type": "execute_result"
    }
   ],
   "source": [
    "nltk.download('averaged_perceptron_tagger')\n",
    "#https://www.nltk.org/book/ch05.html\n",
    "text_word_token = nltk.word_tokenize(\"Natesh is having a good day\")\n",
    "#text_word_token = nltk.word_tokenize(data.text[0])\n",
    "nltk.pos_tag(text_word_token)\n",
    "#https://www.ling.upenn.edu/courses/Fall_2003/ling001/penn_treebank_pos.html"
   ]
  },
  {
   "cell_type": "code",
   "execution_count": 23,
   "metadata": {},
   "outputs": [
    {
     "data": {
      "text/plain": [
       "[('We', 'PRP'), ('are', 'VBP'), ('going', 'VBG'), ('to', 'TO'), ('Race', 'VB')]"
      ]
     },
     "execution_count": 23,
     "metadata": {},
     "output_type": "execute_result"
    }
   ],
   "source": [
    "text_word_token = nltk.word_tokenize(\"We are going to Race\") # try \"Race can be both a verb and a noun\"\n",
    "#text_word_token = nltk.word_tokenize(data.text[0])\n",
    "nltk.pos_tag(text_word_token)"
   ]
  },
  {
   "cell_type": "code",
   "execution_count": 24,
   "metadata": {},
   "outputs": [
    {
     "data": {
      "text/plain": [
       "[('A', 'DT'),\n",
       " ('bit', 'NN'),\n",
       " ('outside', 'IN'),\n",
       " ('of', 'IN'),\n",
       " ('downtown', 'JJ'),\n",
       " ('montreal', 'NN'),\n",
       " ('but', 'CC'),\n",
       " ('take', 'VB'),\n",
       " ('the', 'DT'),\n",
       " ('metro', 'NN'),\n",
       " ('out', 'IN'),\n",
       " ('and', 'CC'),\n",
       " ('it', 'PRP'),\n",
       " (\"'s\", 'VBZ'),\n",
       " ('less', 'JJR'),\n",
       " ('than', 'IN'),\n",
       " ('a', 'DT'),\n",
       " ('10', 'CD'),\n",
       " ('minute', 'NN'),\n",
       " ('walk', 'NN'),\n",
       " ('from', 'IN'),\n",
       " ('the', 'DT'),\n",
       " ('station', 'NN'),\n",
       " ('.', '.')]"
      ]
     },
     "execution_count": 24,
     "metadata": {},
     "output_type": "execute_result"
    }
   ],
   "source": [
    "#https://www.nltk.org/_modules/nltk/tag/perceptron.html\n",
    "nltk.pos_tag(words)"
   ]
  },
  {
   "cell_type": "markdown",
   "metadata": {},
   "source": [
    "<p>NLTK provides documentation for each tag, which can be queried using the tag itself; e.g. <code>nltk.help.upenn_tagset('RB')</code>. Since POS is context-sensitive, POS-taggers must usually be trained on an existing corpus that has been tagged by professional linguists (possibly alongside unlabeled data to take advantage of semi-supervised methods). The most popular tag set is called the Penn Treebank set:</p>"
   ]
  },
  {
   "cell_type": "code",
   "execution_count": 25,
   "metadata": {},
   "outputs": [
    {
     "name": "stderr",
     "output_type": "stream",
     "text": [
      "[nltk_data] Downloading package tagsets to C:\\Users\\Mohammed\n",
      "[nltk_data]     Ibraheem\\AppData\\Roaming\\nltk_data...\n",
      "[nltk_data]   Unzipping help\\tagsets.zip.\n"
     ]
    },
    {
     "name": "stdout",
     "output_type": "stream",
     "text": [
      "CD: numeral, cardinal\n",
      "    mid-1890 nine-thirty forty-two one-tenth ten million 0.5 one forty-\n",
      "    seven 1987 twenty '79 zero two 78-degrees eighty-four IX '60s .025\n",
      "    fifteen 271,124 dozen quintillion DM2,000 ...\n",
      "NN: noun, common, singular or mass\n",
      "    common-carrier cabbage knuckle-duster Casino afghan shed thermostat\n",
      "    investment slide humour falloff slick wind hyena override subhumanity\n",
      "    machinist ...\n"
     ]
    }
   ],
   "source": [
    "# We can get more details about any POS tag using the help function of nltk\n",
    "nltk.download('tagsets')\n",
    "nltk.help.upenn_tagset('CD$')\n",
    "nltk.help.upenn_tagset('NN$')"
   ]
  },
  {
   "cell_type": "markdown",
   "metadata": {},
   "source": [
    "<h3>Exercise 11:</h3>\n",
    "<h4>11.1</h4>\n",
    "<p>Write code to find the percentage of reviews in the first 500 reviews of the dataset that contains a number or a cardinal using POS taggings only. (Hint: POS tag <code>CD</code> is the indicator for cardinal or number.) How does this compare to the figure we extracted from using regular expressions only?</p>"
   ]
  },
  {
   "cell_type": "markdown",
   "metadata": {
    "tags": [
     "ans_st"
    ]
   },
   "source": [
    "**Answer.**"
   ]
  },
  {
   "cell_type": "markdown",
   "metadata": {},
   "source": [
    "-------"
   ]
  },
  {
   "cell_type": "markdown",
   "metadata": {},
   "source": [
    "<h4>11.2</h4>\n",
    "<p>Extract all of the nouns from each review using POS tagging. This may be useful for later analysis. Even though words like \"good\" may be the most prevalent in good reviews, we think nouns like \"service\" or \"burgers\" are likely to be more informative.</p>"
   ]
  },
  {
   "cell_type": "markdown",
   "metadata": {
    "tags": [
     "ans_st"
    ]
   },
   "source": [
    "**Answer.**"
   ]
  },
  {
   "cell_type": "markdown",
   "metadata": {},
   "source": [
    "-------"
   ]
  },
  {
   "cell_type": "markdown",
   "metadata": {},
   "source": [
    "<h3>Exercise 12:</h3>\n",
    "<p>Use POS tagging to find the first word following \"good\" that has an interesting POS tag. We leave this up to your discretion, but should probably include nouns and proper nouns. Inspecting the above, we think that cardinals are also almost certainly interesting: we recognize that \"good 45\" is probably followed by \"minutes\", definitely an important (though not \"good\") part of a review!</p>"
   ]
  },
  {
   "cell_type": "markdown",
   "metadata": {
    "tags": [
     "ans_st"
    ]
   },
   "source": [
    "**Answer.**"
   ]
  },
  {
   "cell_type": "markdown",
   "metadata": {},
   "source": [
    "-------"
   ]
  },
  {
   "cell_type": "markdown",
   "metadata": {},
   "source": [
    "<h3>Exercise 13:</h3>\n",
    "<p>It is interesting to look specifically at Adjectives (which have a tag name of \"JJ\" in NLTK) when looking at reviews. We can hypothesise that good reviews and bad reviews might use very different adjectives, but that some adjectives might appear often in both good and bad reviews, as we saw with the word \"good\" previously.</p>\n",
    "<p>Use POS tags to extract all adjectives from the first 500 five star reviews and the first 500 one star reviews. Extract the most 30 most commonly used adjectives from each set of reviews and print out both. Make a note of several of these; say if they appear in one or both lists, and whether or not this was expected, and why.</p>"
   ]
  },
  {
   "cell_type": "markdown",
   "metadata": {
    "tags": [
     "ans_st"
    ]
   },
   "source": [
    "**Answer.**"
   ]
  },
  {
   "cell_type": "markdown",
   "metadata": {},
   "source": [
    "-------"
   ]
  },
  {
   "cell_type": "markdown",
   "metadata": {},
   "source": [
    "<h2>Conclusions</h2>\n",
    "<p>In this case, we focused on the basic components of an NLP pipeline, virtually all of which are frequently used <em>before</em> building a model for the business question of interest. We saw that every part of the pipeline was highly customizable, and discussed how parameters might vary depending on the specific application in mind. </p>\n",
    "<p>In addition to constructing a basic pipeline, we tried to give initial answers to a business question: \"Which factors are most important for bad reviews?\" The answers we obtained with this out-of-the-box analysis were not perfect, but they did seem to give some genuinely useful information. For example, 3 of the 5 most important phrases for bad reviews were \"20 minutes\", \"10 minutes\", and \"15 minutes\" – strong evidence that long service times were a major driver of bad reviews.</p>"
   ]
  },
  {
   "cell_type": "markdown",
   "metadata": {},
   "source": [
    "<h2>Takeaways</h2>\n",
    "<p>Text pre-processing is more complex than other forms of pre-processing you might be familiar with, as good pre-processing may rely on an enormous number of rules extracted from large corpora of English (Spanish!) text. You shouldn't try to recreate this work by yourself; instead, take advantage of large and powerful libraries such as <code>nltk</code> which have built-in corpora when possible, and use regular expressions when necessary to extend or tweak them.</p>\n",
    "<p>Pre-processing is an extremely important and nontrivial part of NLP, and will likely take the bulk of the work for most NLP projects. Most popular parts of the pipeline come with many parameters. Yet they can give surprisingly useful summaries of entire corpora without much adjustment.</p>\n",
    "<p>Overall, NLP can be used in many situations, but it is perhaps most useful in its ability to turn qualitative data into quantitative data. For example, if we have a collection of reviews describing, qualitatively, people’s experiences at restaurants, we can derive quantitative insights such as “X% of people who left bad reviews were unhappy with the waiting time”.</p>\n",
    "<p>After following through this case, you know what NLP is and how it can be useful. You especially know</p>\n",
    "<ul>\n",
    "<li>The challenges of NLP: context specificity and high dimensionality.</li>\n",
    "<li>How to standardize and pre-process text before carrying out analysis, such as stemming </li>\n",
    "<li>How to tokenize documents into sentences and words</li>\n",
    "<li>How to create word clouds to quickly gain high-level insights into text</li>\n",
    "<li>What n-grams are and how they can be created and used in analysis</li>\n",
    "<li>Why common (“stop”) words should often be removed before analysis</li>\n",
    "<li>How to find common words and n-grams</li>\n",
    "<li>What regular expressions are and how to use them to carry out more custom analysis</li>\n",
    "<li>What Parts of Speech tagging is and why analysing documents by their grammatical structure can be useful</li>\n",
    "</ul>"
   ]
  },
  {
   "cell_type": "code",
   "execution_count": null,
   "metadata": {},
   "outputs": [],
   "source": []
  }
 ],
 "metadata": {
  "kernelspec": {
   "display_name": "Python 3 (ipykernel)",
   "language": "python",
   "name": "python3"
  },
  "language_info": {
   "codemirror_mode": {
    "name": "ipython",
    "version": 3
   },
   "file_extension": ".py",
   "mimetype": "text/x-python",
   "name": "python",
   "nbconvert_exporter": "python",
   "pygments_lexer": "ipython3",
   "version": "3.9.12"
  }
 },
 "nbformat": 4,
 "nbformat_minor": 2
}
